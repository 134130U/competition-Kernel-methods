{
 "cells": [
  {
   "cell_type": "code",
   "execution_count": 66,
   "metadata": {},
   "outputs": [],
   "source": [
    "path_to_utils = '/home/aims/kernel methods/Competition_kaggle/scripts'\n",
    "import os\n",
    "import sys\n",
    "sys.path.append(path_to_utils)"
   ]
  },
  {
   "cell_type": "code",
   "execution_count": 67,
   "metadata": {},
   "outputs": [
    {
     "data": {
      "text/html": [
       "<div>\n",
       "<style scoped>\n",
       "    .dataframe tbody tr th:only-of-type {\n",
       "        vertical-align: middle;\n",
       "    }\n",
       "\n",
       "    .dataframe tbody tr th {\n",
       "        vertical-align: top;\n",
       "    }\n",
       "\n",
       "    .dataframe thead th {\n",
       "        text-align: right;\n",
       "    }\n",
       "</style>\n",
       "<table border=\"1\" class=\"dataframe\">\n",
       "  <thead>\n",
       "    <tr style=\"text-align: right;\">\n",
       "      <th></th>\n",
       "      <th>Id</th>\n",
       "      <th>seq</th>\n",
       "    </tr>\n",
       "  </thead>\n",
       "  <tbody>\n",
       "    <tr>\n",
       "      <th>0</th>\n",
       "      <td>0</td>\n",
       "      <td>GAGGGGCTGGGGAGGGGGCTGGCCCAGAGGCACCAGACTCTGCAGA...</td>\n",
       "    </tr>\n",
       "    <tr>\n",
       "      <th>1</th>\n",
       "      <td>1</td>\n",
       "      <td>CGGCCTGGGGGCCACATGTGAGTGCTTACCTGTGTGGGGATGAGGG...</td>\n",
       "    </tr>\n",
       "    <tr>\n",
       "      <th>2</th>\n",
       "      <td>2</td>\n",
       "      <td>GACAACGCCGCTGTCAGCCGCCTTCGACTCACCTGGGAGGTGATGA...</td>\n",
       "    </tr>\n",
       "    <tr>\n",
       "      <th>3</th>\n",
       "      <td>3</td>\n",
       "      <td>GCCTCCCTTGGCACCACGGGAGACCAGTTTTGGAGGGGCGGGGCTG...</td>\n",
       "    </tr>\n",
       "    <tr>\n",
       "      <th>4</th>\n",
       "      <td>4</td>\n",
       "      <td>GCACTACTACACCCATTGCTGTAATAGTAAGTGCCGGTGCCTTCAC...</td>\n",
       "    </tr>\n",
       "  </tbody>\n",
       "</table>\n",
       "</div>"
      ],
      "text/plain": [
       "   Id                                                seq\n",
       "0   0  GAGGGGCTGGGGAGGGGGCTGGCCCAGAGGCACCAGACTCTGCAGA...\n",
       "1   1  CGGCCTGGGGGCCACATGTGAGTGCTTACCTGTGTGGGGATGAGGG...\n",
       "2   2  GACAACGCCGCTGTCAGCCGCCTTCGACTCACCTGGGAGGTGATGA...\n",
       "3   3  GCCTCCCTTGGCACCACGGGAGACCAGTTTTGGAGGGGCGGGGCTG...\n",
       "4   4  GCACTACTACACCCATTGCTGTAATAGTAAGTGCCGGTGCCTTCAC..."
      ]
     },
     "execution_count": 67,
     "metadata": {},
     "output_type": "execute_result"
    }
   ],
   "source": [
    "import pandas as pd\n",
    "import numpy as np\n",
    "import models\n",
    "from models import KernelLogisticRegression, KernelRidgeRegression,KernelSVM\n",
    "#import KernelRidgeRegression\n",
    "import Kernels\n",
    "from Kernels import linear_kernel,quadratic_kernel, rbf_kernel\n",
    "import kmer_featurization\n",
    "import matplotlib.pyplot as plt\n",
    "from numpy import linalg\n",
    "import cvxopt\n",
    "import cvxopt.solvers\n",
    "import sklearn\n",
    "from sklearn.model_selection import train_test_split, StratifiedKFold, KFold\n",
    "\n",
    "\n",
    "\n",
    "path = '/home/aims/kernel methods/Competition_kaggle/'\n",
    "X = pd.read_csv(path+'data/Xtr.csv')\n",
    "Y = pd.read_csv(path+'data/Ytr.csv')\n",
    "test = pd.read_csv(path+'data/Xte.csv')\n",
    "\n",
    "X.head()"
   ]
  },
  {
   "cell_type": "code",
   "execution_count": 68,
   "metadata": {},
   "outputs": [],
   "source": [
    "data = pd.concat([X['seq'],test['seq']], axis = 0)\n",
    "\n",
    "y = Y['Bound'].to_numpy()\n",
    "y = 2*y - 1 # transform from {0, 1} to {-1, 1}"
   ]
  },
  {
   "cell_type": "code",
   "execution_count": 69,
   "metadata": {},
   "outputs": [],
   "source": [
    "k_mer = kmer_featurization.kmer_featurization(4)"
   ]
  },
  {
   "cell_type": "code",
   "execution_count": 70,
   "metadata": {},
   "outputs": [
    {
     "name": "stdout",
     "output_type": "stream",
     "text": [
      "[[0.         0.         0.         ... 0.         0.30612245 0.51020408]\n",
      " [0.         0.         0.         ... 0.20408163 0.20408163 0.6122449 ]\n",
      " [0.         0.         0.         ... 0.         0.20408163 0.        ]\n",
      " ...\n",
      " [0.10204082 0.         0.20408163 ... 0.         0.         0.        ]\n",
      " [0.         0.         0.         ... 0.10204082 0.10204082 0.20408163]\n",
      " [0.         0.         0.10204082 ... 0.         0.         0.10204082]]\n",
      "The size is  (3000, 256)\n"
     ]
    }
   ],
   "source": [
    "kmer_feat = 10*k_mer.obtain_kmer_feature_for_a_list_of_sequences(data)\n",
    "print(kmer_feat)\n",
    "print('The size is  '+ str(kmer_feat.shape))"
   ]
  },
  {
   "cell_type": "code",
   "execution_count": 71,
   "metadata": {},
   "outputs": [],
   "source": [
    "train = kmer_feat[:2000]\n",
    "X_test = kmer_feat[2000:]"
   ]
  },
  {
   "cell_type": "code",
   "execution_count": 72,
   "metadata": {},
   "outputs": [
    {
     "data": {
      "text/plain": [
       "(2000, 256)"
      ]
     },
     "execution_count": 72,
     "metadata": {},
     "output_type": "execute_result"
    }
   ],
   "source": [
    "train.shape"
   ]
  },
  {
   "cell_type": "code",
   "execution_count": 73,
   "metadata": {},
   "outputs": [],
   "source": [
    "train_x, valid_x, train_y, valid_y = train_test_split(train,y,test_size=0.3)"
   ]
  },
  {
   "cell_type": "code",
   "execution_count": 74,
   "metadata": {},
   "outputs": [],
   "source": [
    "kernel = 'quadratic'\n",
    "lambd = 1e-5\n",
    "sigma = .005\n",
    "model = KernelRidgeRegression(\n",
    "        kernel=kernel,\n",
    "        lambd=lambd,\n",
    "        sigma=sigma\n",
    "    ).fit(train_x, train_y)"
   ]
  },
  {
   "cell_type": "code",
   "execution_count": 75,
   "metadata": {},
   "outputs": [
    {
     "name": "stdout",
     "output_type": "stream",
     "text": [
      "62.0\n",
      "64.0\n",
      "61.0\n",
      "55.00000000000001\n",
      "57.99999999999999\n",
      "69.0\n",
      "66.0\n",
      "67.0\n",
      "60.0\n",
      "59.0\n",
      "60.0\n",
      "57.99999999999999\n",
      "57.99999999999999\n",
      "59.0\n",
      "54.0\n",
      "57.99999999999999\n",
      "71.0\n",
      "64.0\n",
      "61.0\n",
      "62.0\n",
      "final accuracy 61.3\n"
     ]
    }
   ],
   "source": [
    "kf = KFold(n_splits=20)\n",
    "scores = []\n",
    "for train_index,test_index in kf.split(train):\n",
    "\n",
    "    train_x, valid_x, train_y,valid_y = train[train_index],train[test_index], y[train_index], y[test_index]\n",
    "    model.fit(train_x,train_y)\n",
    "    ypred = model.predict(valid_x)\n",
    "    print(np.mean(ypred == valid_y)*100)\n",
    "    scores.append(np.mean(ypred == valid_y)*100)\n",
    "\n",
    "print('final accuracy', np.mean(scores))"
   ]
  },
  {
   "cell_type": "code",
   "execution_count": 76,
   "metadata": {},
   "outputs": [
    {
     "name": "stdout",
     "output_type": "stream",
     "text": [
      "Accuracy  62.0\n"
     ]
    }
   ],
   "source": [
    "ypred = model.predict(valid_x)\n",
    "correct = np.mean(ypred == valid_y)*100\n",
    "print(\"Accuracy \", correct)"
   ]
  },
  {
   "cell_type": "code",
   "execution_count": 77,
   "metadata": {},
   "outputs": [],
   "source": [
    "# Prediction \n",
    "y_pred = model.predict(X_test)\n",
    "pred = (y_pred + 1)/2\n",
    "pred = pred.astype(int)\n",
    "\n",
    "test['Bound'] = pred\n",
    "subm = test[['Id','Bound']]"
   ]
  },
  {
   "cell_type": "code",
   "execution_count": null,
   "metadata": {},
   "outputs": [],
   "source": [
    "subm.to_csv('Yte.csv',index= False)"
   ]
  }
 ],
 "metadata": {
  "kernelspec": {
   "display_name": "Python 3",
   "language": "python",
   "name": "python3"
  },
  "language_info": {
   "codemirror_mode": {
    "name": "ipython",
    "version": 3
   },
   "file_extension": ".py",
   "mimetype": "text/x-python",
   "name": "python",
   "nbconvert_exporter": "python",
   "pygments_lexer": "ipython3",
   "version": "3.7.3"
  }
 },
 "nbformat": 4,
 "nbformat_minor": 2
}
